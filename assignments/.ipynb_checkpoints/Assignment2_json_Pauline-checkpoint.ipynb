{
 "cells": [
  {
   "cell_type": "code",
   "execution_count": 1,
   "metadata": {},
   "outputs": [],
   "source": [
    "import requests\n",
    "import urllib\n",
    "import json\n",
    "from json import loads,dumps"
   ]
  },
  {
   "cell_type": "code",
   "execution_count": 2,
   "metadata": {},
   "outputs": [],
   "source": [
    "def research(search):\n",
    "    search = input(\"What would you like to research?\")\n",
    "    url = 'https://www.europeana.eu/api/entities/suggest?wskey=apidemo&text='+ str(search)\n",
    "    answer = requests.get(url).json()\n",
    "    retrieval = answer['items']\n",
    "    for word in retrieval: \n",
    "        if word in retrieval: \n",
    "            print(word)\n",
    "        else:\n",
    "            print(\"Sorry, we couldn't find any information on that person.\")"
   ]
  },
  {
   "cell_type": "code",
   "execution_count": 3,
   "metadata": {},
   "outputs": [
    {
     "name": "stdin",
     "output_type": "stream",
     "text": [
      "What would you like to research? Erasmus\n"
     ]
    },
    {
     "name": "stdout",
     "output_type": "stream",
     "text": [
      "{'id': 'http://data.europeana.eu/agent/base/198', 'type': 'Agent', 'depiction': 'http://commons.wikimedia.org/wiki/Special:FilePath/Holbein-erasmus.jpg', 'prefLabel': {'en': 'Desiderius Erasmus'}, 'hiddenLabel': {'en': ['Desiderius Erasmus', 'Erasmus, Desiderius']}, 'dateOfBirth': '1466-10-27', 'dateOfDeath': '1536-07-12'}\n",
      "{'id': 'http://data.europeana.eu/agent/base/77639', 'type': 'Agent', 'depiction': 'http://commons.wikimedia.org/wiki/Special:FilePath/Peter%20Erasmus%20M%C3%BCller.JPG', 'prefLabel': {'en': 'Peter Erasmus Müller'}, 'hiddenLabel': {'en': ['Peter Erasmus Müller', 'Müller, Peter Erasmus']}, 'dateOfBirth': '1776-05-29', 'dateOfDeath': '1834-09-04'}\n",
      "{'id': 'http://data.europeana.eu/agent/base/154250', 'type': 'Agent', 'prefLabel': {'en': 'Erasmus Grasser'}, 'hiddenLabel': {'en': ['Erasmus Grasser', 'Grasser, Erasmus']}, 'dateOfBirth': '1450', 'dateOfDeath': '1510'}\n",
      "{'id': 'http://data.europeana.eu/agent/base/12159', 'type': 'Agent', 'depiction': 'http://commons.wikimedia.org/wiki/Special:FilePath/Erasmus%20Quellinus%20-%20Het%20Gulden%20Cabinet.png', 'prefLabel': {'en': 'Erasmus Quellinus II'}, 'hiddenLabel': {'en': ['Erasmus Quellinus II', 'II, Erasmus Quellinus']}, 'dateOfBirth': '1607', 'dateOfDeath': '1678'}\n",
      "{'id': 'http://data.europeana.eu/agent/base/16271', 'type': 'Agent', 'prefLabel': {'en': 'Jan-Erasmus Quellinus'}, 'hiddenLabel': {'en': ['Jan-Erasmus Quellinus', 'Quellinus, Jan-Erasmus']}, 'dateOfBirth': '1634', 'dateOfDeath': '1715-03-11'}\n",
      "{'id': 'http://data.europeana.eu/agent/base/88872', 'type': 'Agent', 'depiction': 'http://commons.wikimedia.org/wiki/Special:FilePath/Efrancisci.jpg', 'prefLabel': {'en': 'Erasmus Finx'}, 'hiddenLabel': {'en': ['Erasmus Finx', 'Finx, Erasmus']}, 'dateOfBirth': '1627-11-16', 'dateOfDeath': '1694-12-20'}\n",
      "{'id': 'http://data.europeana.eu/agent/base/58004', 'type': 'Agent', 'depiction': 'http://commons.wikimedia.org/wiki/Special:FilePath/PE%20Lange-M%C3%BCller.gif', 'prefLabel': {'en': 'Peter Lange-Müller', 'sv': 'Peter Erasmus Lange-Müller'}, 'hiddenLabel': {'en': ['Peter Lange-Müller', 'Lange-Müller, Peter'], 'sv': ['Peter Erasmus Lange-Müller', 'Lange-Müller, Peter Erasmus']}, 'dateOfBirth': '1850-12-01', 'dateOfDeath': '1926-02-26'}\n",
      "{'id': 'http://data.europeana.eu/agent/base/39278', 'type': 'Agent', 'depiction': 'http://commons.wikimedia.org/wiki/Special:FilePath/Erasmus%20Widmann.jpg', 'prefLabel': {'en': 'Erasmus Widmann'}, 'hiddenLabel': {'en': ['Erasmus Widmann', 'Widmann, Erasmus']}, 'dateOfBirth': '1572', 'dateOfDeath': '1634'}\n",
      "{'id': 'http://data.europeana.eu/agent/base/7171', 'type': 'Agent', 'depiction': 'http://commons.wikimedia.org/wiki/Special:FilePath/Arolsen%20Klebeband%2003%20277%203.jpg', 'prefLabel': {'en': 'Johann Erasmus Kindermann'}, 'hiddenLabel': {'en': ['Johann Erasmus Kindermann', 'Kindermann, Johann Erasmus']}, 'dateOfBirth': '1616-03-29', 'dateOfDeath': '1655-04-14'}\n",
      "{'id': 'http://data.europeana.eu/agent/base/20452', 'type': 'Agent', 'prefLabel': {'en': 'Erasmus Augustus Worthington'}, 'hiddenLabel': {'en': ['Erasmus Augustus Worthington', 'Worthington, Erasmus Augustus']}, 'dateOfBirth': '1791-12-21', 'dateOfDeath': '1880'}\n"
     ]
    }
   ],
   "source": [
    "research(\"Erasmus\")"
   ]
  },
  {
   "cell_type": "code",
   "execution_count": 4,
   "metadata": {},
   "outputs": [
    {
     "name": "stdin",
     "output_type": "stream",
     "text": [
      "What would you like to research? Justus Lipsius\n"
     ]
    },
    {
     "name": "stdout",
     "output_type": "stream",
     "text": [
      "{'id': 'http://data.europeana.eu/agent/base/97901', 'type': 'Agent', 'prefLabel': {'en': 'Justus Hermann Lipsius'}, 'hiddenLabel': {'en': ['Justus Hermann Lipsius', 'Lipsius, Justus Hermann']}, 'dateOfBirth': '1834', 'dateOfDeath': '1920'}\n"
     ]
    }
   ],
   "source": [
    "research(\"Justus Lipsius\")"
   ]
  },
  {
   "cell_type": "code",
   "execution_count": 7,
   "metadata": {},
   "outputs": [
    {
     "name": "stdin",
     "output_type": "stream",
     "text": [
      "What would you like to research? Django\n"
     ]
    },
    {
     "name": "stdout",
     "output_type": "stream",
     "text": [
      "{'id': 'http://data.europeana.eu/agent/base/59945', 'type': 'Agent', 'depiction': 'http://commons.wikimedia.org/wiki/Special:FilePath/Django%20Reinhardt%20%28Gottlieb%2007301%29.jpg', 'prefLabel': {'en': 'Django Reinhardt'}, 'hiddenLabel': {'en': ['Django Reinhardt', 'Reinhardt, Django']}, 'dateOfBirth': '1910-01-23', 'dateOfDeath': '1953-05-16', 'professionOrOccupation': {'en': ['composer']}}\n",
      "{'id': 'http://data.europeana.eu/agent/base/89535', 'type': 'Agent', 'depiction': 'http://commons.wikimedia.org/wiki/Special:FilePath/Django%20Bates.jpg', 'prefLabel': {'en': 'Django Bates'}, 'hiddenLabel': {'en': ['Django Bates', 'Bates, Django']}, 'dateOfBirth': '1960-10-02', 'professionOrOccupation': {'en': ['Professor of Rhythmic Music at the Rhythmic Music Conservatory, Copenhagen.']}}\n",
      "{'id': 'http://data.europeana.eu/agent/base/115119', 'type': 'Agent', 'depiction': 'http://commons.wikimedia.org/wiki/Special:FilePath/Django%20Walker.png', 'prefLabel': {'en': 'Django Walker'}, 'hiddenLabel': {'en': ['Django Walker', 'Walker, Django']}, 'dateOfBirth': '1981-08-28'}\n",
      "{'id': 'http://data.europeana.eu/agent/base/157647', 'type': 'Agent', 'prefLabel': {'en': 'King Django'}, 'hiddenLabel': {'en': ['King Django', 'Django, King']}}\n"
     ]
    }
   ],
   "source": [
    "research(\"Django\")"
   ]
  },
  {
   "cell_type": "code",
   "execution_count": null,
   "metadata": {},
   "outputs": [],
   "source": []
  }
 ],
 "metadata": {
  "kernelspec": {
   "display_name": "Python 3",
   "language": "python",
   "name": "python3"
  },
  "language_info": {
   "codemirror_mode": {
    "name": "ipython",
    "version": 3
   },
   "file_extension": ".py",
   "mimetype": "text/x-python",
   "name": "python",
   "nbconvert_exporter": "python",
   "pygments_lexer": "ipython3",
   "version": "3.8.3"
  }
 },
 "nbformat": 4,
 "nbformat_minor": 4
}
