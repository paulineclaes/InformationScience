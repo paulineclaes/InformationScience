{
 "cells": [
  {
   "cell_type": "code",
   "execution_count": 6,
   "metadata": {},
   "outputs": [],
   "source": [
    "with open('corpus.txt', 'r') as f: \n",
    "    corpus = f.read()"
   ]
  },
  {
   "cell_type": "code",
   "execution_count": 8,
   "metadata": {},
   "outputs": [
    {
     "name": "stdout",
     "output_type": "stream",
     "text": [
      "[('the', 13666), ('of', 6535), ('and', 5920), ('a', 4508), ('to', 4486), ('in', 3841), ('that', 2690), ('his', 2415), ('I', 1725), ('with', 1652), ('as', 1596), ('is', 1581), ('was', 1567), ('it', 1520), ('he', 1492), ('for', 1377), ('all', 1301), ('at', 1223), ('this', 1161), ('by', 1117), ('from', 1062), ('but', 1032), ('not', 1028), ('be', 985), ('on', 918), ('so', 790), ('you', 773), ('one', 760), ('have', 751), ('had', 751), ('or', 719), ('were', 646), ('But', 639), ('their', 611), ('an', 579), ('are', 577), ('some', 571), ('they', 569), ('my', 560), ('him', 554), ('which', 552), ('like', 545), ('The', 542), ('upon', 531), ('into', 517), ('when', 502), ('now', 458), ('no', 443), ('out', 436), ('more', 432), ('there', 415), ('up', 414), ('old', 412), ('would', 407), ('if', 405), ('been', 401), ('we', 396), ('whale', 392), ('what', 380), ('its', 372), ('these', 364), ('over', 361), ('other', 358), ('only', 349), ('will', 346), ('me', 339), ('then', 338), ('such', 328), ('And', 321), ('any', 320), ('than', 310), ('very', 307), ('down', 298), ('those', 296), ('has', 282), ('great', 282), ('most', 277), ('about', 276), ('still', 276), ('her', 274), ('them', 273), ('seemed', 273), ('though', 272), ('must', 271), ('ye', 260), ('It', 259), ('two', 257), ('who', 254), ('before', 252), ('your', 251), ('long', 251), ('said', 247), ('it,', 237), ('yet', 237), ('after', 236), ('man', 236), ('do', 234), ('little', 232), ('him,', 232), ('Ahab', 232)]\n"
     ]
    }
   ],
   "source": [
    "def freq_dict(text):\n",
    "    d = {}\n",
    "    text = text.split()\n",
    "    for word in text: \n",
    "        if word in d: \n",
    "            d[word] += 1\n",
    "        else: \n",
    "            d[word] = 1\n",
    "    return d\n",
    "\n",
    "fd = freq_dict(corpus)\n",
    "\n",
    "from operator import itemgetter\n",
    "sorted_freq = sorted(fd.items(), key=itemgetter(1), reverse=True)\n",
    "print(sorted_freq[:100])"
   ]
  }
 ],
 "metadata": {
  "kernelspec": {
   "display_name": "Python 3",
   "language": "python",
   "name": "python3"
  },
  "language_info": {
   "codemirror_mode": {
    "name": "ipython",
    "version": 3
   },
   "file_extension": ".py",
   "mimetype": "text/x-python",
   "name": "python",
   "nbconvert_exporter": "python",
   "pygments_lexer": "ipython3",
   "version": "3.8.3"
  }
 },
 "nbformat": 4,
 "nbformat_minor": 4
}
