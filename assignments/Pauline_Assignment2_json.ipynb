{
 "cells": [
  {
   "cell_type": "code",
   "execution_count": 2,
   "metadata": {},
   "outputs": [],
   "source": [
    "import requests\n",
    "import urllib\n",
    "import json\n",
    "from json import loads,dumps"
   ]
  },
  {
   "cell_type": "code",
   "execution_count": 25,
   "metadata": {},
   "outputs": [],
   "source": [
    "def research(search):\n",
    "    url = 'https://www.europeana.eu/api/entities/suggest?wskey=apidemo&text='+ str(search)\n",
    "    try: \n",
    "        answer = requests.get(url)\n",
    "        query = answer.json()\n",
    "        retrieval = query['items']\n",
    "        if answer.status_code == 200: \n",
    "            for word in retrieval: \n",
    "                if word in retrieval: \n",
    "                    print(word)\n",
    "                else: \n",
    "                    print('No matches found.')\n",
    "        elif answer.status_code == 400: \n",
    "            print(\"Error code 400: 'Bad request'\")\n",
    "        elif answer.status_code == 401:\n",
    "            print(\"Error code 401: 'Unauthorized.'\")\n",
    "        elif answer.status_code == 403:\n",
    "            print(\"Error code 403: 'Forbidden.'\")\n",
    "        elif answer.status_code == 404:\n",
    "            print(\"Error code 404: 'Not found.'\")\n",
    "        elif answer.status_code == 500:\n",
    "            print(\"Error code 500: 'Internal error.'\")\n",
    "    except KeyError:\n",
    "        pass"
   ]
  },
  {
   "cell_type": "code",
   "execution_count": 26,
   "metadata": {},
   "outputs": [
    {
     "name": "stdout",
     "output_type": "stream",
     "text": [
      "{'id': 'http://data.europeana.eu/agent/base/97901', 'type': 'Agent', 'prefLabel': {'en': 'Justus Hermann Lipsius'}, 'hiddenLabel': {'en': ['Justus Hermann Lipsius', 'Lipsius, Justus Hermann']}, 'dateOfBirth': '1834', 'dateOfDeath': '1920'}\n"
     ]
    }
   ],
   "source": [
    "research(\"Justus Lipsius\")"
   ]
  },
  {
   "cell_type": "code",
   "execution_count": 27,
   "metadata": {},
   "outputs": [
    {
     "name": "stdout",
     "output_type": "stream",
     "text": [
      "{'id': 'http://data.europeana.eu/agent/base/198', 'type': 'Agent', 'depiction': 'http://commons.wikimedia.org/wiki/Special:FilePath/Holbein-erasmus.jpg', 'prefLabel': {'en': 'Desiderius Erasmus'}, 'hiddenLabel': {'en': ['Desiderius Erasmus', 'Erasmus, Desiderius']}, 'dateOfBirth': '1466-10-27', 'dateOfDeath': '1536-07-12'}\n",
      "{'id': 'http://data.europeana.eu/agent/base/77639', 'type': 'Agent', 'depiction': 'http://commons.wikimedia.org/wiki/Special:FilePath/Peter%20Erasmus%20M%C3%BCller.JPG', 'prefLabel': {'en': 'Peter Erasmus Müller'}, 'hiddenLabel': {'en': ['Peter Erasmus Müller', 'Müller, Peter Erasmus']}, 'dateOfBirth': '1776-05-29', 'dateOfDeath': '1834-09-04'}\n",
      "{'id': 'http://data.europeana.eu/agent/base/154250', 'type': 'Agent', 'prefLabel': {'en': 'Erasmus Grasser'}, 'hiddenLabel': {'en': ['Erasmus Grasser', 'Grasser, Erasmus']}, 'dateOfBirth': '1450', 'dateOfDeath': '1510'}\n",
      "{'id': 'http://data.europeana.eu/agent/base/12159', 'type': 'Agent', 'depiction': 'http://commons.wikimedia.org/wiki/Special:FilePath/Erasmus%20Quellinus%20-%20Het%20Gulden%20Cabinet.png', 'prefLabel': {'en': 'Erasmus Quellinus II'}, 'hiddenLabel': {'en': ['Erasmus Quellinus II', 'II, Erasmus Quellinus']}, 'dateOfBirth': '1607', 'dateOfDeath': '1678'}\n",
      "{'id': 'http://data.europeana.eu/agent/base/16271', 'type': 'Agent', 'prefLabel': {'en': 'Jan-Erasmus Quellinus'}, 'hiddenLabel': {'en': ['Jan-Erasmus Quellinus', 'Quellinus, Jan-Erasmus']}, 'dateOfBirth': '1634', 'dateOfDeath': '1715-03-11'}\n",
      "{'id': 'http://data.europeana.eu/agent/base/88872', 'type': 'Agent', 'depiction': 'http://commons.wikimedia.org/wiki/Special:FilePath/Efrancisci.jpg', 'prefLabel': {'en': 'Erasmus Finx'}, 'hiddenLabel': {'en': ['Erasmus Finx', 'Finx, Erasmus']}, 'dateOfBirth': '1627-11-16', 'dateOfDeath': '1694-12-20'}\n",
      "{'id': 'http://data.europeana.eu/agent/base/58004', 'type': 'Agent', 'depiction': 'http://commons.wikimedia.org/wiki/Special:FilePath/PE%20Lange-M%C3%BCller.gif', 'prefLabel': {'en': 'Peter Lange-Müller', 'sv': 'Peter Erasmus Lange-Müller'}, 'hiddenLabel': {'en': ['Peter Lange-Müller', 'Lange-Müller, Peter'], 'sv': ['Peter Erasmus Lange-Müller', 'Lange-Müller, Peter Erasmus']}, 'dateOfBirth': '1850-12-01', 'dateOfDeath': '1926-02-26'}\n",
      "{'id': 'http://data.europeana.eu/agent/base/39278', 'type': 'Agent', 'depiction': 'http://commons.wikimedia.org/wiki/Special:FilePath/Erasmus%20Widmann.jpg', 'prefLabel': {'en': 'Erasmus Widmann'}, 'hiddenLabel': {'en': ['Erasmus Widmann', 'Widmann, Erasmus']}, 'dateOfBirth': '1572', 'dateOfDeath': '1634'}\n",
      "{'id': 'http://data.europeana.eu/agent/base/7171', 'type': 'Agent', 'depiction': 'http://commons.wikimedia.org/wiki/Special:FilePath/Arolsen%20Klebeband%2003%20277%203.jpg', 'prefLabel': {'en': 'Johann Erasmus Kindermann'}, 'hiddenLabel': {'en': ['Johann Erasmus Kindermann', 'Kindermann, Johann Erasmus']}, 'dateOfBirth': '1616-03-29', 'dateOfDeath': '1655-04-14'}\n",
      "{'id': 'http://data.europeana.eu/agent/base/20452', 'type': 'Agent', 'prefLabel': {'en': 'Erasmus Augustus Worthington'}, 'hiddenLabel': {'en': ['Erasmus Augustus Worthington', 'Worthington, Erasmus Augustus']}, 'dateOfBirth': '1791-12-21', 'dateOfDeath': '1880'}\n"
     ]
    }
   ],
   "source": [
    "research(\"Erasmus\")"
   ]
  },
  {
   "cell_type": "code",
   "execution_count": 28,
   "metadata": {},
   "outputs": [],
   "source": [
    "research(\"Django Spirelli\")"
   ]
  },
  {
   "cell_type": "code",
   "execution_count": null,
   "metadata": {},
   "outputs": [],
   "source": [
    "\n"
   ]
  }
 ],
 "metadata": {
  "kernelspec": {
   "display_name": "Python 3",
   "language": "python",
   "name": "python3"
  },
  "language_info": {
   "codemirror_mode": {
    "name": "ipython",
    "version": 3
   },
   "file_extension": ".py",
   "mimetype": "text/x-python",
   "name": "python",
   "nbconvert_exporter": "python",
   "pygments_lexer": "ipython3",
   "version": "3.8.3"
  }
 },
 "nbformat": 4,
 "nbformat_minor": 4
}
