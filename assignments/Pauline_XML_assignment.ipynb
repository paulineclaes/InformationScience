{
 "cells": [
  {
   "cell_type": "markdown",
   "metadata": {},
   "source": [
    "## Assignment: MARC21 to Dublin Core conversion for OAI\n",
    "#### Use BeautifulSoup: https://www.crummy.com/software/BeautifulSoup/bs4/doc/\n",
    "\n",
    "__[The Open Archives Initiative Protocol for Metadata Harvesting (OAI-PMH)](https://www.openarchives.org/pmh/)__ or OAI for short:\n",
    "\n",
    "> is a low-barrier mechanism for repository interoperability. Data Providers are repositories that expose structured metadata via OAI-PMH. Service Providers then make OAI-PMH service requests to harvest that metadata. OAI-PMH is a set of six verbs or services that are invoked within HTTP.\n",
    "\n",
    "At Anet, for instance, we provide full OAI access to our complete database of books. Like so:\n",
    "\n",
    "(MARC21)\n",
    "\n",
    "```\n",
    "https://anet.be/oai/catgeneric/server.phtml?verb=GetRecord&metadataPrefix=marc21&identifier=c:lvd:123456 \n",
    "```\n",
    "\n",
    "\n",
    "(__[MODS](https://en.wikipedia.org/wiki/Metadata_Object_Description_Schema)__)\n",
    "\n",
    "```\n",
    "https://anet.be/oai/catgeneric/server.phtml?verb=GetRecord&metadataPrefix=mods&identifier=c:lvd:123456\n",
    "```\n",
    "\n",
    "In these examples, the trailing `c:lvd:` number is a unique Library Object Identifier (LOI) used by our LMS __[Brocade](https://en.wikipedia.org/wiki/Brocade_Library_Services)__. You can substitute it for any LOI you find in our __[OPAC](https://anet.uantwerpen.be/desktop/uantwerpen/opacuantwerpen/E)__.\n",
    "\n",
    "Typically, libraries will use the OAI protocol to import/export metadata in different formats. So when setting up an OAI server, one of the main tasks is coding software that converts data from one standard to another. Libraries management systems, for instance, need such conversions both to be able to feed an OAI server from their own database respository, or, vice versa, to harvest data from external repositories and convert it to the standard(s) they use.\n",
    "\n",
    "According to the standards specifications, all implementations of OAI-PMH must support representing metadata in Dublin Core, so your assignment will be to write a metadata converter that is able to harvest MARC21 metadata (XML) and convert that to Dublin Core (XML). It should be a Python command line application that asks for a LOI number (e.g. `c:lvd:123456`), uses OAI to harvest the MARC21 metadata and then writes the Dublin Core conversion to a file (e.g. `123456.xml`).\n",
    "\n",
    "Make a python application that will ask for one of these LOI (clvd) numbers, goes to the OAI server to harvest the metadata in XML and then you (yourself) translate this MARC21 metadata standard to Dublin Core. We can limit to \"unqualified\" table and we can skip the Leader-field\n",
    "\n",
    "### Tips\n",
    "\n",
    "- You can use the Library of Congress __[MARC to Dublin Core Crosswalk](https://www.loc.gov/marc/marc2dc.html)__. You may limit yourself to the fields mentioned in the \"unqualified\" table and skip the \"Leader\" field. You will find the meaning of the various codes (`a`, `c`, etcetera) in the MARC specification, but you can limit yourself to code `a`, unless the crosswalk explicitly mentions other codes (e.g. `260` = `Publisher`).\n",
    "- The Python `lxml` library is well-suited to both parse (MARC21) and generate (Dublin Core) XML.\n",
    "- If you don't already, you will need to know about XML namespaces. This __[tutorial from w3schools](https://www.w3schools.com/xml/xml_namespaces.asp)__ and the info from the __[lxml module](https://lxml.de/tutorial.html#namespaces)__ are good starting points."
   ]
  },
  {
   "cell_type": "code",
   "execution_count": null,
   "metadata": {},
   "outputs": [],
   "source": [
    "def marc_query(loi):\n",
    "    marcurl = marclink + loi\n",
    "    with urllib.request.urlopen(url) as query:\n",
    "        return query.read()"
   ]
  },
  {
   "cell_type": "code",
   "execution_count": 53,
   "metadata": {},
   "outputs": [
    {
     "name": "stdout",
     "output_type": "stream",
     "text": [
      "<?xml version=\"1.0\" encoding=\"UTF-8\" ?>\n",
      "<OAI-PMH xmlns=\"http://www.openarchives.org/OAI/2.0/\"\n",
      "         xmlns:xsi=\"http://www.w3.org/2001/XMLSchema-instance\"\n",
      "         xsi:schemaLocation=\"http://www.openarchives.org/OAI/2.0/\n",
      "         http://www.openarchives.org/OAI/2.0/OAI-PMH.xsd\">\n",
      " <responseDate>2020-12-14T20:32:51.424055Z</responseDate>\n",
      "<request verb=\"GetRecord\" metadataPrefix=\"marc21\" identifier=\"c:lvd:123456\">https://anet.be/oai/catgeneric/server.phtml</request>\n",
      "<GetRecord><record><header><identifier>c:lvd:123456</identifier><datestamp>2020-10-13T15:53:34.999998Z</datestamp></header><metadata><record xmlns:xsi=\"http://www.w3.org/2001/XMLSchema-instance\" xsi:schemaLocation=\"http://www.loc.gov/standards/marcxml/schema/MARC21slim.xsd\"><leader>00709nam a2200000 c 4500</leader><controlfield tag=\"001\">c:lvd:123456</controlfield><controlfield tag=\"003\">BE-AnANE</controlfield><controlfield tag=\"005\">20201013165335.1</controlfield><controlfield tag=\"008\">861226s1932####xx                u dut  </controlfield><datafield tag=\"035\" ind1=\" \" ind2=\" \"><subfield code=\"a\">(OCoLC)781576701</subfield></datafield><datafield tag=\"040\" ind1=\" \" ind2=\" \"><subfield code=\"a\">BE-AnANE</subfield><subfield code=\"b\">dut</subfield></datafield><datafield tag=\"041\" ind1=\" \" ind2=\" \"><subfield code=\"a\">dut</subfield></datafield><datafield tag=\"100\" ind1=\"1\" ind2=\" \"><subfield code=\"a\">Sassen, Ferdinand</subfield><subfield code=\"4\">aut</subfield></datafield><datafield tag=\"245\" ind1=\"1\" ind2=\"0\"><subfield code=\"a\">Geschiedenis van de wijsbegeerte der Grieken en Romeinen</subfield><subfield code=\"c\">Ferdinand Sassen [aut]</subfield></datafield><datafield tag=\"250\" ind1=\" \" ind2=\" \"><subfield code=\"a\">2 ed.</subfield></datafield><datafield tag=\"260\" ind1=\"#\" ind2=\"#\"><subfield code=\"a\">Antwerpen</subfield><subfield code=\"b\">Standaard</subfield><subfield code=\"c\">1932</subfield></datafield><datafield tag=\"300\" ind1=\" \" ind2=\" \"><subfield code=\"a\">190 p.</subfield></datafield><datafield tag=\"340\" ind1=\" \" ind2=\" \"><subfield code=\"a\">paper</subfield></datafield><datafield tag=\"490\" ind1=\"0\" ind2=\" \"><subfield code=\"a\">Filosofische bibliotheek</subfield><subfield code=\"v\">1932: 4</subfield></datafield><datafield tag=\"648\" ind1=\" \" ind2=\"4\"><subfield code=\"a\">Oudheid</subfield><subfield code=\"0\">(BE-AnANE)a::93.001:1</subfield></datafield><datafield tag=\"650\" ind1=\" \" ind2=\"4\"><subfield code=\"a\">Geschiedenis van de filosofie</subfield><subfield code=\"0\">(BE-AnANE)a::19:1</subfield></datafield><datafield tag=\"919\" ind1=\" \" ind2=\" \"><subfield code=\"a\">tpc</subfield></datafield><datafield tag=\"919\" ind1=\" \" ind2=\" \"><subfield code=\"a\">UA-CST</subfield></datafield><datafield tag=\"920\" ind1=\" \" ind2=\" \"><subfield code=\"a\">book</subfield></datafield></record></metadata></record></GetRecord>\n",
      "</OAI-PMH>\n",
      "\n"
     ]
    }
   ],
   "source": [
    "from lxml import etree\n",
    "from urllib import request\n",
    "from bs4 import BeautifulSoup\n",
    "\n",
    "#a url to read from\n",
    "loi = \"123456\"\n",
    "marclink = \"https://anet.be/oai/catgeneric/server.phtml?verb=GetRecord&metadataPrefix=marc21&identifier=c:lvd:\"+str(search)\n",
    "oai_namespace = \"http://www.openarchives.org/OAI/2.0/\"\n",
    "\n",
    "#open a link to the url\n",
    "with request.urlopen(link) as w:\n",
    "    #read the page\n",
    "    marc_xml = w.read()\n",
    "    \n",
    "#print the decoded page\n",
    "print(marc_xml.decode('UTF-8'))  # remove hash to turn into code\n",
    "# decodes it so that the lines are respected (and everything is not glued together)"
   ]
  },
  {
   "cell_type": "code",
   "execution_count": 63,
   "metadata": {},
   "outputs": [
    {
     "name": "stdout",
     "output_type": "stream",
     "text": [
      "<Element {http://www.openarchives.org/OAI/2.0/}OAI-PMH at 0x7fdd12f27a00>\n",
      "['__bool__', '__class__', '__contains__', '__copy__', '__deepcopy__', '__delattr__', '__delitem__', '__dir__', '__doc__', '__eq__', '__format__', '__ge__', '__getattribute__', '__getitem__', '__gt__', '__hash__', '__init__', '__init_subclass__', '__iter__', '__le__', '__len__', '__lt__', '__ne__', '__new__', '__reduce__', '__reduce_ex__', '__repr__', '__reversed__', '__setattr__', '__setitem__', '__sizeof__', '__str__', '__subclasshook__', '_init', 'addnext', 'addprevious', 'append', 'attrib', 'base', 'clear', 'cssselect', 'extend', 'find', 'findall', 'findtext', 'get', 'getchildren', 'getiterator', 'getnext', 'getparent', 'getprevious', 'getroottree', 'index', 'insert', 'items', 'iter', 'iterancestors', 'iterchildren', 'iterdescendants', 'iterfind', 'itersiblings', 'itertext', 'keys', 'makeelement', 'nsmap', 'prefix', 'remove', 'replace', 'set', 'sourceline', 'tag', 'tail', 'text', 'values', 'xpath']\n"
     ]
    }
   ],
   "source": [
    "import lxml.etree\n",
    "marctree = lxml.etree.fromstring(marc_xml)\n",
    "print(marctree)\n",
    "print(dir(marctree))"
   ]
  },
  {
   "cell_type": "code",
   "execution_count": 66,
   "metadata": {},
   "outputs": [],
   "source": [
    "for element in marctree.iter(\"datafield\"):\n",
    "    print(element)"
   ]
  },
  {
   "cell_type": "code",
   "execution_count": 67,
   "metadata": {},
   "outputs": [],
   "source": [
    "for element in marctree.iter(\"subfield\"):\n",
    "    print(element)"
   ]
  },
  {
   "cell_type": "code",
   "execution_count": 69,
   "metadata": {},
   "outputs": [],
   "source": [
    "for element in marctree.iter(\"subfield\"):\n",
    "    # XML attributes are dicts\n",
    "    for attribute_name, attribute_value in element.items():\n",
    "        print(attribute_name, \":\", attribute_value)\n",
    "        # get text with .text() method of element\n",
    "        print(element.text)"
   ]
  },
  {
   "cell_type": "code",
   "execution_count": 2,
   "metadata": {},
   "outputs": [],
   "source": [
    "## check github prof prof.deneire's code."
   ]
  },
  {
   "cell_type": "markdown",
   "metadata": {},
   "source": [
    "Points from this assignment: \n",
    "1. Refactoring code is important to keep things manageable.\n",
    "2. This is a real world example. OAI-PMH is a standard for exchanging metadata. \n",
    "3. "
   ]
  }
 ],
 "metadata": {
  "kernelspec": {
   "display_name": "Python 3",
   "language": "python",
   "name": "python3"
  },
  "language_info": {
   "codemirror_mode": {
    "name": "ipython",
    "version": 3
   },
   "file_extension": ".py",
   "mimetype": "text/x-python",
   "name": "python",
   "nbconvert_exporter": "python",
   "pygments_lexer": "ipython3",
   "version": "3.8.5"
  }
 },
 "nbformat": 4,
 "nbformat_minor": 4
}
