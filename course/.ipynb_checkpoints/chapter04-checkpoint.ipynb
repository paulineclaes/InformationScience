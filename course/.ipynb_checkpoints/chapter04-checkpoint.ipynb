{
 "metadata": {
  "language_info": {
   "codemirror_mode": {
    "name": "ipython",
    "version": 3
   },
   "file_extension": ".py",
   "mimetype": "text/x-python",
   "name": "python",
   "nbconvert_exporter": "python",
   "pygments_lexer": "ipython3",
   "version": "3.8.5-final"
  },
  "orig_nbformat": 2,
  "kernelspec": {
   "name": "python3",
   "display_name": "Python 3.8.5 64-bit",
   "metadata": {
    "interpreter": {
     "hash": "31f2aee4e71d21fbe5cf8b01ff0e069b9275f58929596ceb00d14d90e3e16cd6"
    }
   }
  }
 },
 "nbformat": 4,
 "nbformat_minor": 2,
 "cells": [
  {
   "cell_type": "markdown",
   "metadata": {},
   "source": [
    "# Chapter 4: Databases"
   ]
  },
  {
   "source": [
    "![](images/data.jpeg)\n",
    "\n",
    "Credit: unknown"
   ],
   "cell_type": "markdown",
   "metadata": {}
  },
  {
   "cell_type": "markdown",
   "metadata": {},
   "source": [
    "## Information vs Database Models\n",
    "\n",
    "Formal discussions of the concept \"information\" might start with a treatment of different information models, as does chapter 3 of *Modern Information Retrieval* (see course description):\n",
    "\n",
    "> Modeling in IR is a complex process aimed at producing a ranking function, i.e., a function that assigns scores to documents with regard to a given query. This process consists of two main tasks: (a) the conception of a logical framework for representing documents and queries and (b) the definition of a ranking function that computes a rank for each document with regard to a given query.\n",
    "\n",
    "While IR models are obviously very interesting, the discussion is also highly theoretical and requires no small amount of mathematics (set theory, algebra, probability theory, ...). Therefore, it seems more practical and applicable to talk about **databases** instead as different \"models\" of information. Indeed, in most real-world applications of information science, you will most likely have to deal with information stored in a database.\n"
   ]
  },
  {
   "cell_type": "markdown",
   "metadata": {},
   "source": [
    "## Databases\n",
    "\n",
    "__[Wikipedia](https://en.wikipedia.org/wiki/Database)__ defines a database as a \"an organized collection of data, generally stored and accessed electronically from a computer system\". Such a broad definition allows for many different kinds of databases, ranging from a single text file (e.g. the line `apples,oranges,grapes` is a database) to complex database management systems (DBMS) like MySQL that operate on large data structures.\n",
    "\n",
    "### Database models\n",
    "\n",
    "The classification of databases is a topic for a course on its own. For now, it will suffice to say that the development of database technology can be divided into three eras based on data model or structure: navigational, relational/SQL, and post-relational.\n",
    "\n",
    "#### Navigational\n",
    "\n",
    "__[Wikipedia](https://en.wikipedia.org/wiki/Navigational_database)__ says\n",
    "\n",
    ">A navigational database is a type of database in which records or objects are found primarily by following references from other objects. The term was popularized by the title of Charles Bachman's 1973 Turing Award paper, The Programmer as Navigator. This paper emphasized the fact that the new disk-based database systems allowed the programmer to choose arbitrary navigational routes following relationships from record to record, contrasting this with the constraints of earlier magnetic-tape and punched card systems where data access was strictly sequential.\n",
    "\n",
    "(...)\n",
    "\n",
    ">Although Bachman described the concept of navigation in abstract terms, the idea of navigational access came to be associated strongly with the procedural design of the CODASYL Data Manipulation Language. Writing in 1982, for example, Tsichritzis and Lochovsky state that \"The notion of currency is central to the concept of navigation.\" By the notion of currency, they refer to the idea that a program maintains (explicitly or implicitly) a current position in any sequence of records that it is processing, and that operations such as `GET NEXT` and `GET PRIOR` retrieve records relative to this current position, while also changing the current position to the record that is retrieved.\n",
    "\n",
    "#### Relational/SQL\n",
    "\n",
    "__[Wikipedia:Relational_model](https://en.wikipedia.org/wiki/Relational_model)__ and __[Wikipedia:Database](https://en.wikipedia.org/wiki/Database)__ say:\n",
    "\n",
    ">The relational model (...) is an approach to managing data using a structure and language consistent with first-order predicate logic, first described in 1969 by English computer scientist Edgar F. Codd, where all data is represented in terms of tuples, grouped into relations. (...) he described a new system for storing and working with large databases. Instead of records being stored in some sort of linked list of free-form records (...), Codd's idea was to organise the data as a number of \"tables\", each table being used for a different type of entity. Each table would contain a fixed number of columns containing the attributes of the entity. One or more columns of each table were designated as a primary key by which the rows of the table could be uniquely identified; cross-references between tables always used these primary keys, rather than disk addresses, and queries would join tables based on these key relationships, using a set of operations based on the mathematical system of relational calculus (from which the model takes its name). Splitting the data into a set of normalized tables (or relations) aimed to ensure that each \"fact\" was only stored once, thus simplifying update operations. Virtual tables called views could present the data in different ways for different users, but views could not be directly updated.\n",
    "\n",
    ">The purpose of the relational model is to provide a declarative method for specifying data and queries: users directly state what information the database contains and what information they want from it, and let the database management system software take care of describing data structures for storing the data and retrieval procedures for answering queries.\n",
    "\n",
    ">Most relational databases use the SQL data definition and query language; these systems implement what can be regarded as an engineering approximation to the relational model. \n",
    "\n",
    "#### Post-relational\n",
    "\n",
    "__[Wikipedia](https://en.wikipedia.org/wiki/NoSQL)__ says:\n",
    "\n",
    ">A NoSQL (originally referring to \"non-SQL\" or \"non-relational\") database provides a mechanism for storage and retrieval of data that is modeled in means other than the tabular relations used in relational databases. Such databases have existed since the late 1960s, but the name \"NoSQL\" was only coined in the early 21st century (...) NoSQL databases are increasingly used in big data and real-time web applications. NoSQL systems are also sometimes called \"Not only SQL\" to emphasize that they may support SQL-like query languages or sit alongside SQL databases in polyglot-persistent architectures.\n",
    "\n",
    ">Motivations for this approach include: simplicity of design, simpler \"horizontal\" scaling to clusters of machines (which is a problem for relational databases), finer control over availability and limiting the object-relational impedance mismatch. The data structures used by NoSQL databases (e.g. key–value pair, wide column, graph, or document) are different from those used by default in relational databases, making some operations faster in NoSQL. The particular suitability of a given NoSQL database depends on the problem it must solve. Sometimes the data structures used by NoSQL databases are also viewed as \"more flexible\" than relational database tables.\n",
    "\n",
    "Categories of post-relational databases include:\n",
    "\n",
    "* **key-value stores**, such as the MUMPS database by YottaDB that we use for Brocade, the University of Antwerp's Library Management System\n",
    "* **document stores**, such as XML or JSON\n",
    "* **triple stores**, such as RDF\n"
   ]
  },
  {
   "cell_type": "markdown",
   "metadata": {},
   "source": [
    "### Databases as Linked Data\n",
    "\n",
    "Another interesting way to think about databases is to consider them from the view point of Linked (open) Data.\n",
    "\n",
    "At __[w3.org](https://www.w3.org/2011/gld/wiki/5_Star_Linked_Data)__ we read:\n",
    "\n",
    ">Tim Berners-Lee, the inventor of the Web and initiator of the Linked Data project, suggested a 5 star deployment scheme for Linked Data. The 5 Star Linked Data system is cumulative. Each additional star presumes the data meets the criteria of the previous step(s).\n",
    "\n",
    ">☆ Data is available on the Web, in whatever format.\t\n",
    "\n",
    ">☆☆ Available as machine-readable structured data, (i.e., not a scanned image).\n",
    "\n",
    ">☆☆☆ Available in a non-proprietary format, (i.e, CSV, not Microsoft Excel).\t\n",
    "\n",
    ">☆☆☆☆ Published using open standards from the W3C (RDF and SPARQL).\t\n",
    "\n",
    ">☆☆☆☆☆ All of the above and links to other Linked Open Data.\n",
    "\n",
    "In this way, we can organize different database types into a data hierarchy like such:\n",
    "\n",
    "![](images/5-star-steps-open-data-5-star-model.png)\n",
    "\n",
    "* OL: Open License\n",
    "* RE: Readable\n",
    "* OF: Open format\n",
    "* URI: Uniform Resource Identifier\n",
    "* LD: Linked Data\n",
    "\n",
    "For a good description of this summary, see __[this article](https://www.ontotext.com/knowledgehub/fundamentals/five-star-linked-open-data/)__."
   ]
  },
  {
   "cell_type": "markdown",
   "metadata": {},
   "source": [
    "## Query Languages\n",
    "\n",
    "When trying to retrieve information, we are obviously primarily interested in querying information, for which we use [query languages](https://en.wikipedia.org/wiki/Query_language). \n",
    "\n",
    "Formally, query languages can be classified according to whether they are **database query languages** or **information retrieval query languages**. The difference is that a database query language attempts to give factual answers to factual questions, while an information retrieval query language attempts to find documents containing information that is relevant to an area of inquiry. \n",
    "\n",
    "For the former we will discuss XML and SQL; for the latter CQL."
   ]
  },
  {
   "cell_type": "markdown",
   "metadata": {},
   "source": [
    "### CQL\n",
    "\n",
    "Let's start with an example of an information retrieval query language: contextual query language. According to __[Wikipedia](https://en.wikipedia.org/wiki/Contextual_Query_Language)__\n",
    "\n",
    ">Contextual Query Language (CQL), previously known as Common Query Language, is a formal language for representing queries to information retrieval systems such as search engines, bibliographic catalogs and museum collection information. Based on the semantics of Z39.50, its design objective is that queries be human readable and writable, and that the language be intuitive while maintaining the expressiveness of more complex query languages. It is being developed and maintained by the Z39.50 Maintenance Agency, part of the Library of Congress.\n",
    "\n",
    "Querying with CQL operates via SRU - Search/Retrieve via URL, which is a standard XML-based protocol for search queries.\n",
    "\n",
    "You can find the __[SRU](http://www.loc.gov/standards/sru/index.html)__ and __[CQL](https://www.loc.gov/standards/sru/cql/spec.html)__ specifications at the Library of Congress website. \n",
    "\n",
    "A fun API that support SRU/CQL is offered by the __[CERL (Consortium of European Research Libraries)](https://cerl.org/)__, which is responsible for the __[CERL Thesaurus](https://data.cerl.org/thesaurus/_search)__, containing forms of imprint places, imprint names, personal names and corporate names as found in material printed before the middle of the nineteenth century - including variant spellings, forms in Latin and other languages, and fictitious names.\n",
    "\n",
    "To use this API you just send a web request to `https://data.cerl.org/thesaurus/_sru?version=1.2&operation=searchRetrieve&query=` followed by your CQL query in double quotes (or rather: `%22` which is the URL-safe encoding of `\"`), for instance: `https://data.cerl.org/thesaurus/_sru?version=1.2&operation=searchRetrieve&query=%22Erasmus%22`\n",
    "\n",
    "The response will be an XML document (database) containing the relevant CERL thesaurus entries for this query."
   ]
  },
  {
   "cell_type": "markdown",
   "metadata": {},
   "source": [
    "### XML\n",
    "\n",
    "XML is something most of you are already familiar with, as it is a recurring technology in digital text analysis. In fact, XML is ubiquitous in the information world. It is very actively used in the library world. Another example is invoicing; for instance, the Government of Flanders has been asking for XML e-invoices from its suppliers for all contracts since 2017.\n",
    "\n",
    "If you need to brush up your understanding of XML, __[w3schools](https://www.w3schools.com/xml/)__ is a good place to start. Here we will briefly return to the matter of **parsing XML**, which is the process of analyzing XML documents to extract their information.\n",
    "\n",
    "For Python, two XML libraries are highly recommended:\n",
    "\n",
    "- __[beautifulsoup](https://pypi.org/project/beautifulsoup4/)__\n",
    "- __[lxml](https://lxml.de/)__\n",
    "\n",
    "Both turn XML's hierarchical structure into a parse tree, which behaves like a Pythonic object that you can then iterate over."
   ]
  },
  {
   "cell_type": "markdown",
   "metadata": {},
   "source": [
    "### SQL\n",
    "\n",
    "Unlike XML, SQL is a technology that is probably new to most of you. Therefore, we will spend some more time discussing it in this __[presentation](https://docs.google.com/presentation/d/1hLpHtKFs79QJYS0NpN9u4RG_hNwqScwoLgObFJKmvy8/edit?usp=sharing)__\n",
    "\n",
    "Python's standard library contains the module __[sqlite3](https://docs.python.org/3/library/sqlite3.html)__ which allows a SQL interface to a database.\n",
    "\n",
    "For example, let's launch some SQL queries on a sqlite database of __[STCV](https://vlaamse-erfgoedbibliotheken.be/en/dossier/short-title-catalogue-flanders-stcv/stcv)__, which is the Short Title Catalogue Flanders, an online database with extensive bibliographical descriptions of editions printed in Flanders before 1801. This database is available as part of the __[Anet Open Data](https://www.uantwerpen.be/nl/projecten/anet/open-data/)__. A recent version of it is available in this repo under `data`."
   ]
  },
  {
   "cell_type": "code",
   "execution_count": 4,
   "metadata": {
    "tags": []
   },
   "outputs": [
    {
     "output_type": "stream",
     "name": "stdout",
     "text": "('A.E.J.D.', 'Exhibitio sacrorum canonum circa ius regvlarium ecclesiarvm, quoad prædicationem divini Verbi', '1674')\n('A.F.', \"Histoire de l'empereur Charles V.\", '1663')\n('A.F. Wouthers', 'Civilia busta Philippi ofte De borgerlycke uytvaert over Philippus den Vierden coninck van Spanien [...] gedaen door de overheyt ende het volck van Antwerpen [...] den 17. dagh der wintermaendt 1665', '1666')\n('A.F., Theophilus', \"Het noodeloos tegen-venyn van een stuck sermoons door christelycke liefde van bitterheyt gesuyvert en wederleyt door't gesagh van d'algemeyne kerck-vergaderingen en van d'heylige vaders dienende tot vastigheyt van ons out geloof\", '1718')\n('A.G.', 'Maria het huys des heeren ghebouwt op seven colomnen, te weten op de dry goddelijcke deughden, ende de vier hooft-deughden', '1683')\n('A.H.', \"Entretiens de devotion sur le S. sacrement de l'autel\", '1722')\n('A.H.G.H.V.C. Romanum', 'Historia avgvsta, sive Imperatorvm cæsarvmq. Romanorvm vitae et res gestae ex antiquis inscriptionibus collecta', '1602')\n('A.H.v.G.', 'Getuige der waerheid in de leere van Gods eeuwige verkiezinge, van de genade des zaligmakers, en van den vryewil der menschen', '1689')\n('A.I.v.K.P.', 'Opgang, voortgang, en nedergang, der ketteryen deser eeuwe', '1690')\n('A.J. Charles', 'Het leven van de H. moeder Begga fondateuresse van de beggynen', '1760')\n"
    }
   ],
   "source": [
    "import os\n",
    "import sqlite3\n",
    "\n",
    "# To use the module, you must first create a Connection object that represents the database\n",
    "conn = sqlite3.connect(os.path.join('data', 'stcv.sqlite'))\n",
    "# Once you have a Connection, you create a Cursor object\n",
    "c = conn.cursor()\n",
    "# To perform SQL commands you call the Cursor object's excute() method\n",
    "query = \"\"\"\n",
    "        select distinct author_zvwr, title_ti, impressum_ju1sv from author\n",
    "        join title on author.cloi = title.cloi\n",
    "        join impressum on title.cloi = impressum.cloi\n",
    "        group by author_zvwr\n",
    "        \"\"\"\n",
    "c.execute(query)\n",
    "data = []\n",
    "# Call fetchall() to get a list of the matching rows\n",
    "for x in c.fetchall():\n",
    "    data.append(x)\n",
    "for result in data[50:60]:\n",
    "    print(result)\n",
    "# Close the connection when you're done\n",
    "conn.close()"
   ]
  },
  {
   "cell_type": "markdown",
   "metadata": {},
   "source": [
    "## Assignment: JSON metadata harvester\n",
    "\n",
    "### JSON\n",
    "\n",
    "One (document) database technology which we have not discussed yet, is __[JSON](https://www.json.org/json-en.html)__. If you need to brush up on your JSON skills, __[w3schools](https://www.w3schools.com/js/js_json_intro.asp)__ is again a good starting point. \n",
    "\n",
    "However, JSON is much easier to work with than XML. Basically, you can just think about it as a dictionary and Python, for instance, allows you to access it just so, using the `json` library: "
   ]
  },
  {
   "cell_type": "code",
   "execution_count": 1,
   "metadata": {
    "tags": []
   },
   "outputs": [
    {
     "output_type": "stream",
     "name": "stdout",
     "text": [
      "Doe\n{\"1\": {\"lastname\": \"Doe\", \"firstname\": \"John\"}, \"2\": {\"lastname\": \"Eyre\", \"firstname\": \"Jane\"}}\n"
     ]
    }
   ],
   "source": [
    "from json import loads,dumps\n",
    "contacts = \"\"\"\n",
    "{\n",
    "\t\"1\": {\n",
    "\t\t\"lastname\": \"Doe\",\n",
    "\t\t\"firstname\": \"John\"\n",
    "\t},\n",
    "\t\"2\": {\n",
    "\t\t\"lastname\": \"Doe\",\n",
    "\t\t\"firstname\": \"Jane\"\n",
    "\t}\n",
    "}\n",
    "\"\"\"\n",
    "# Turn JSON into dict with loads()\n",
    "contacts_dict = loads(contacts)\n",
    "print(contacts_dict[\"2\"][\"lastname\"])\n",
    "# Turn dict into JSON with dumps()\n",
    "contacts_dict[\"2\"][\"lastname\"] = \"Eyre\"\n",
    "contacts = dumps(contacts_dict)\n",
    "print(contacts)"
   ]
  },
  {
   "cell_type": "markdown",
   "metadata": {},
   "source": [
    "For your assignement you will be using the JSON data made available through the __[Europeana Entities API](https://pro.europeana.eu/page/entity)__, which allows you to search on or retrieve information from named entities. These named entities (such as persons, topics and places) are part of the Europeana Entity Collection, a collection of entities in the context of Europeana harvested from and linked to controlled vocabularies, such as ​Geonames, Dbpedia and Wikidata. It is advisable to read the API's __[documentation](https://pro.europeana.eu/page/entity)__ first.\n",
    "\n",
    "Your assignement is simple. Write a Python script that prompts for user input of a named entity, query the API for that entity, parse the results and print them on standard output."
   ]
  },
  {
   "cell_type": "markdown",
   "metadata": {},
   "source": [
    "### Some tips:\n",
    "\n",
    "- You can use `wskey=apidemo` for your API request.\n",
    "- A good Python library to access URLs is `urllib`.\n",
    "- Think about what we have seen already about standardizing/normalizing search strings, but take this to the next level.\n",
    "- Try to anticipate what can go wrong. \n",
    "- Test your application with the following search strings: `Erasmus`, `Justus Lipsius` and `Django Spirelli`.\n",
    "\n",
    "If this is an easy task for you, you might think about parsing the results and adding them to your own database structure, e.g. XML or SQLite. "
   ]
  }
 ]
}